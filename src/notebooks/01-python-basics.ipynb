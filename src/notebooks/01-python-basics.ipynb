{
 "cells": [
  {
   "cell_type": "markdown",
   "metadata": {},
   "source": [
    "# If statement"
   ]
  },
  {
   "cell_type": "code",
   "execution_count": null,
   "metadata": {},
   "outputs": [],
   "source": [
    "if 2 < 1:\n",
    "    print(\"true!\")\n",
    "else: \n",
    "    print(\"false!\")"
   ]
  },
  {
   "cell_type": "markdown",
   "metadata": {},
   "source": [
    "# For loop"
   ]
  },
  {
   "cell_type": "code",
   "execution_count": null,
   "metadata": {},
   "outputs": [],
   "source": [
    "items = {1,1,1,1,1,2,3,3,3,3,4,4,6,6,6,7,7,7}\n",
    "\n",
    "for item in items:\n",
    "    print(item)\n",
    "\n",
    "print(\"\")\n",
    "\n",
    "items_list = list(items)\n",
    "items_list.append(7)\n",
    "\n",
    "for item in items_list:\n",
    "    print(item)"
   ]
  },
  {
   "cell_type": "markdown",
   "metadata": {},
   "source": [
    "# While loop"
   ]
  },
  {
   "cell_type": "code",
   "execution_count": null,
   "metadata": {},
   "outputs": [],
   "source": [
    "count = 0\n",
    "print(f\"this is out of while loop: {count}\")\n",
    "\n",
    "while count < 10:\n",
    "    count += 1\n",
    "    print(f\"this is inside of while loop: {count}\")\n"
   ]
  },
  {
   "cell_type": "markdown",
   "metadata": {},
   "source": [
    "# Range function"
   ]
  },
  {
   "cell_type": "code",
   "execution_count": null,
   "metadata": {},
   "outputs": [],
   "source": [
    "range_list = list(range(1,6))\n",
    "\n",
    "for i in range_list:\n",
    "    print(f\"{i}\", end=\" \")"
   ]
  },
  {
   "cell_type": "markdown",
   "metadata": {},
   "source": [
    "# For loop to Array"
   ]
  },
  {
   "cell_type": "code",
   "execution_count": null,
   "metadata": {},
   "outputs": [],
   "source": [
    "digits=[0,1,2,3,4,5,6,7,8,9]\n",
    "square=[digit**2 for digit in digits]\n",
    "\n",
    "for i in square:\n",
    "    print(f\"{i}\", end=\" \")"
   ]
  },
  {
   "cell_type": "markdown",
   "metadata": {},
   "source": [
    "# Functions"
   ]
  },
  {
   "cell_type": "code",
   "execution_count": null,
   "metadata": {},
   "outputs": [],
   "source": [
    "def square(num):\n",
    "    return num**2\n",
    "\n",
    "print(square(20))"
   ]
  },
  {
   "cell_type": "markdown",
   "metadata": {},
   "source": [
    "# Mapping "
   ]
  },
  {
   "cell_type": "code",
   "execution_count": null,
   "metadata": {},
   "outputs": [],
   "source": [
    "print(list(map(square, [2,4,6,8,9,12])))"
   ]
  },
  {
   "cell_type": "markdown",
   "metadata": {},
   "source": [
    "# Lambda expression"
   ]
  },
  {
   "cell_type": "code",
   "execution_count": null,
   "metadata": {},
   "outputs": [],
   "source": [
    "print(list(map(lambda var:var**2, [2,4,6,8,9,12])))\n",
    "\n",
    "j = lambda var:var**3\n",
    "print(list(map(j, [2,4,6,8,9,12])))"
   ]
  },
  {
   "cell_type": "markdown",
   "metadata": {},
   "source": [
    "# Filtering"
   ]
  },
  {
   "cell_type": "code",
   "execution_count": null,
   "metadata": {},
   "outputs": [],
   "source": [
    "seq = [2,4,6,8,9,12]\n",
    "print(list(filter(lambda num:num%2 == 0, seq)))"
   ]
  },
  {
   "cell_type": "markdown",
   "metadata": {},
   "source": [
    "# Tuple unpacking"
   ]
  },
  {
   "cell_type": "code",
   "execution_count": null,
   "metadata": {},
   "outputs": [],
   "source": [
    "x = [(1,2),(3,4),(5,6)]\n",
    "\n",
    "for a,b in x:\n",
    "    print(a)\n",
    "    print(b)"
   ]
  },
  {
   "cell_type": "markdown",
   "metadata": {},
   "source": [
    "# Exercises"
   ]
  },
  {
   "cell_type": "markdown",
   "metadata": {},
   "source": [
    "## Get domain from email"
   ]
  },
  {
   "cell_type": "code",
   "execution_count": null,
   "metadata": {},
   "outputs": [],
   "source": [
    "domainGet = lambda var:var.split(\"@\")[1]\n",
    "print(domainGet(\"really.different_email123@gmail.com\"))"
   ]
  },
  {
   "cell_type": "code",
   "execution_count": null,
   "metadata": {},
   "outputs": [],
   "source": [
    "seq = ['soup', 'dog', 'salad', 'cat', 'great']\n",
    "seqWithS = list(filter(lambda var:var[0] == \"s\",seq))\n",
    "\n",
    "print(seqWithS)"
   ]
  },
  {
   "cell_type": "markdown",
   "metadata": {},
   "source": [
    "## Ticket system"
   ]
  },
  {
   "cell_type": "code",
   "execution_count": null,
   "metadata": {},
   "outputs": [],
   "source": [
    "birthday = True\n",
    "currentSpeed = 86\n",
    "\n",
    "def ticket(speed, isBirthday):\n",
    "    if isBirthday: \n",
    "        speedCalculated = speed - 5\n",
    "    else:\n",
    "        speedCalculated = speed\n",
    "    \n",
    "    if speedCalculated <= 60:\n",
    "        return \"No ticket\"\n",
    "    elif speedCalculated > 60 and speedCalculated <= 80:\n",
    "        return \"Small Ticket\"\n",
    "    elif speedCalculated > 80:\n",
    "        return \"Big ticket\"\n",
    "    \n",
    "print(ticket(currentSpeed, birthday))"
   ]
  }
 ],
 "metadata": {
  "kernelspec": {
   "display_name": "Python 3",
   "language": "python",
   "name": "python3"
  },
  "language_info": {
   "codemirror_mode": {
    "name": "ipython",
    "version": 3
   },
   "file_extension": ".py",
   "mimetype": "text/x-python",
   "name": "python",
   "nbconvert_exporter": "python",
   "pygments_lexer": "ipython3",
   "version": "3.11.5"
  },
  "orig_nbformat": 4
 },
 "nbformat": 4,
 "nbformat_minor": 2
}
